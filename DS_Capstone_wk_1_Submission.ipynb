{
 "cells": [
  {
   "cell_type": "markdown",
   "metadata": {},
   "source": [
    "# Investigation into Best Location for Opening a New Brewery"
   ]
  },
  {
   "cell_type": "markdown",
   "metadata": {},
   "source": [
    "## By Tom Kenny for Coursera Capstone Project"
   ]
  },
  {
   "cell_type": "markdown",
   "metadata": {},
   "source": [
    "_“Beer is proof that God loves us and wants us to be happy._ ― __Benjamin Franklin__\n",
    "\n",
    "### Problem Description: ###\n",
    "\n",
    "Ok, Ben Franklin never said that, but as far as often quoted misquotes go, it is of the highest\n",
    "quality. But beyond being just an enjoyable pint, beer is also big business. Forget about the\n",
    "big multinationals. According to The Brewers Association, the craft brewing industry\n",
    "contributed $79.1 billion to the U.S. economy in 2018, more than 550,000 jobs(1). Nationally,\n",
    "the number of craft breweries is growing, though the annual growth rate is decelerating. The\n",
    "growth rate was 21% from 2014-2015 and has fallen to 13% from 2017-2018(2).\n",
    "That being said, if you want to investigate the possibility of opening a brewery, some thing to\n",
    "consider would be the potential market (the population of a given area), and how that market\n",
    "is currently being served (number of breweries within a given radius).\n",
    "\n",
    "### Target Audience: ###\n",
    "\n",
    "Any group or individual contemplating the brewery business and the possibility of opening\n",
    "or buying a brewery.\n",
    "The analysis, while limited to a single U.S. state and a single type of venue, could easily be\n",
    "tailored to any location and any venue type in the Foursquare database.\n",
    "\n",
    "### Data and its Usage: ###\n",
    "\n",
    "For this report, I will investigate population centers (by zip code) in the U.S. state of Indiana.\n",
    "This information is available from the U.S. Census Bureau via API. Within the report I will\n",
    "obtain the population for each zip code in the state. Then a limit (which can be changed) will\n",
    "be set and populations below this number will be dropped.\n",
    "Given a zip code, Nominatim will be used to retrieve a latitude and longitude associated with\n",
    "the zip code, and this lat./long. data will be used in making calls to Foursquare. Information\n",
    "returned by Foursquare will in be a list of breweries within a given radius. The count of the\n",
    "breweries and the population (and the name associated with the zip code) will be analyzed\n",
    "with the intent of finding an area with a relatively high population and a relatively low\n",
    "number of breweries already present."
   ]
  },
  {
   "cell_type": "markdown",
   "metadata": {},
   "source": [
    "References:\n",
    "1. https://www.brewersassociation.org/statistics-and-data/economic-impact-data/#state-impact\n",
    "2. https://www.brewersassociation.org/press-releases/brewers-association-releases-annual-growth-report/"
   ]
  },
  {
   "cell_type": "markdown",
   "metadata": {},
   "source": [
    "This is the end of week one's submission"
   ]
  },
  {
   "cell_type": "code",
   "execution_count": null,
   "metadata": {},
   "outputs": [],
   "source": []
  }
 ],
 "metadata": {
  "kernelspec": {
   "display_name": "Python 3",
   "language": "python",
   "name": "python3"
  },
  "language_info": {
   "codemirror_mode": {
    "name": "ipython",
    "version": 3
   },
   "file_extension": ".py",
   "mimetype": "text/x-python",
   "name": "python",
   "nbconvert_exporter": "python",
   "pygments_lexer": "ipython3",
   "version": "3.7.5"
  }
 },
 "nbformat": 4,
 "nbformat_minor": 2
}
